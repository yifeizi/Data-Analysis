{
 "cells": [
  {
   "cell_type": "code",
   "execution_count": 2,
   "id": "9c3a6b7b",
   "metadata": {},
   "outputs": [
    {
     "name": "stdout",
     "output_type": "stream",
     "text": [
      "I believe with which we must be corrected , as well as the public revenues of our system . To attempt to have then compare the liberal feelings which it to be between the executive department , which it may have been granted , and scrupulous as the part of any of Congress . The citizens , there is the reserved by which , and patriotism , had sought protection in direct opposition to his compact , than in controlling the controlling the letter or between them from the public virtue , but as it depends upon their flatterer , \n"
     ]
    }
   ],
   "source": [
    "from urllib.request import urlopen\n",
    "from random import randint\n",
    "\n",
    "def wordListSum(wordList):\n",
    "    sum = 0\n",
    "    for word, value in wordList.items():\n",
    "        sum += value\n",
    "    return sum\n",
    "def retrieveRandomWord(wordList):\n",
    "    randIndex = randint(1, wordListSum(wordList))\n",
    "    for word, value in wordList.items():\n",
    "        randIndex -= value\n",
    "        if randIndex <= 0:\n",
    "            return word\n",
    "def buildWordDict(text):\n",
    "# 剔除换行符和引号\n",
    "    text = text.replace(\"\\n\", \" \");\n",
    "    text = text.replace(\"\\\"\", \"\");\n",
    "# 保证每个标点符号都和前面的单词在一起\n",
    "# 这样不会被剔除，保留在马尔可夫链中\n",
    "    punctuation = [',', '.', ';',':']\n",
    "    for symbol in punctuation:\n",
    "        text = text.replace(symbol, \" \"+symbol+\" \");\n",
    "    words = text.split(\" \")\n",
    "# 过滤空单词\n",
    "    words = [word for word in words if word != \"\"]\n",
    "    wordDict = {}\n",
    "    for i in range(1, len(words)):\n",
    "        if words[i-1] not in wordDict:\n",
    "# 为单词新建一个词典\n",
    "            wordDict[words[i-1]] = {}\n",
    "        if words[i] not in wordDict[words[i-1]]:\n",
    "            wordDict[words[i-1]][words[i]] = 0\n",
    "        wordDict[words[i-1]][words[i]] = wordDict[words[i-1]][words[i]] + 1\n",
    "    return wordDict\n",
    "text = str(urlopen(\"http://pythonscraping.com/files/inaugurationSpeech.txt\").read(), 'utf-8')\n",
    "wordDict = buildWordDict(text)\n",
    "# 生成链长为100的马尔可夫链\n",
    "length = 100\n",
    "chain = \"\"\n",
    "currentWord = \"I\"\n",
    "for i in range(0, length):\n",
    "    chain += currentWord+\" \"\n",
    "    currentWord = retrieveRandomWord(wordDict[currentWord])\n",
    "print(chain)"
   ]
  },
  {
   "cell_type": "code",
   "execution_count": null,
   "id": "3868ff9d",
   "metadata": {},
   "outputs": [],
   "source": []
  }
 ],
 "metadata": {
  "kernelspec": {
   "display_name": "Python 3 (ipykernel)",
   "language": "python",
   "name": "python3"
  },
  "language_info": {
   "codemirror_mode": {
    "name": "ipython",
    "version": 3
   },
   "file_extension": ".py",
   "mimetype": "text/x-python",
   "name": "python",
   "nbconvert_exporter": "python",
   "pygments_lexer": "ipython3",
   "version": "3.9.5"
  }
 },
 "nbformat": 4,
 "nbformat_minor": 5
}
